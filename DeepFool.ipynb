{
 "cells": [
  {
   "cell_type": "code",
   "execution_count": null,
   "id": "1845c70e-aaa3-48be-9479-60ad056730d2",
   "metadata": {},
   "outputs": [],
   "source": []
  }
 ],
 "metadata": {
  "kernelspec": {
   "display_name": "",
   "name": ""
  },
  "language_info": {
   "name": ""
  }
 },
 "nbformat": 4,
 "nbformat_minor": 5
}
