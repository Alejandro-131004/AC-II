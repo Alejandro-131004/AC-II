{
 "cells": [
  {
   "cell_type": "markdown",
   "metadata": {},
   "source": [
    "We are going to use <span style=\"color#00bfae;\">**Multilayer Perceptron (MLP)**</span> because it is a flexible neural network architecture. MLPs are great for solving <span style=\"color:red;\">**classification problems**</span>.\n",
    "\n",
    "The network works by processing data through <span style=\"color: #00bfae;\">**multiple layers**</span>, with each layer learning to capture different features of the input data.\n",
    "\n",
    "We used <span style=\"color:red;\">**dictionaries**</span> to organize and store different options for <span style=\"color:red;\">**hyperparameters**</span>, like the number of layers, learning rates, and activation functions. This allows us to easily experiment with different configurations and manage the settings efficiently.\n",
    "\n",
    "To optimize our model, we decided to <span style=\"color: #00bfae;\">**update and select the best hyperparameter combination in the first iteration**</span>. This means that in the beginning, we test several combinations of hyperparameters to find the one that performs best. By doing this, we can quickly narrow down the best model for our task, improving the <span style=\"color:red;\">**accuracy**</span> of the predictions.\n",
    "\n",
    "Additionally, we will use the <span style=\"color:red;\">**ADAM**</span> optimizer, which is a popular choice for training neural networks due to its adaptive learning rate and efficient performance.\n",
    "We also implemented **early stopping** to prevent overfitting by monitoring the model's performance and halting training when it stops improving.\n",
    "\n",
    "---\n",
    "In this way, the process of <span style=\"color: #00bfae;\">**testing and updating**</span> in the first iteration helps us fine-tune the model efficiently, and <span style=\"color:red;\">**selecting the best combination**</span> ensures we are using the most effective settings for our dataset.\n",
    "\n",
    "---\n",
    "\n",
    "## Hyperparameter Configuration\n",
    "\n",
    "The following table defines the possible combinations of hyperparameters we tested:\n",
    "\n",
    "| <span style=\"color: #C70039;\">**Hyperparameter**</span> | <span style=\"color: #C70039;\">**Options**</span>        |\n",
    "|-----------------------------------------------------|-------------------------------------------------------|\n",
    "| <span style=\"color: #00bfae;\">**hidden_units**</span> | [[128, 64], [256, 128, 64], [64, 32]]                 |\n",
    "| <span style=\"color: #00bfae;\">**dropout_rate**</span> | [0.3, 0.5]                                            |\n",
    "| <span style=\"color: #00bfae;\">**batch_size**</span>   | [32]                                                  |\n",
    "| <span style=\"color: #00bfae;\">**epochs**</span>       | [20]                                                  |\n",
    "| <span style=\"color: #00bfae;\">**learning_rate**</span> | [0.001, 0.0001]                                       |\n",
    "\n",
    "---\n",
    "\n",
    "Here, we highlight some key elements using color to make the important words stand out. The table includes **hyperparameters** and their respective **options** in different colors for clarity and emphasis.\n"
   ]
  },
  {
   "cell_type": "markdown",
   "metadata": {},
   "source": []
  }
 ],
 "metadata": {
  "language_info": {
   "name": "python"
  }
 },
 "nbformat": 4,
 "nbformat_minor": 2
}
