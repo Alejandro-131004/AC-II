{
 "cells": [
  {
   "cell_type": "markdown",
   "metadata": {},
   "source": [
    "## Convolutional neural network (CNN)<a name=\"convolutional\"></a>\n",
    "[[go back to the top]](#contents)\n",
    "\n",
    "For the CNN classifier, we have two options:\n",
    "- **1D CNN**, which inputs can be obtained by applying the **CNN directly on portions (windows)** of the original sound signal (after downsampling and normalization).\n",
    "- **2D CNN**, which are based on **time frequency analysis of sounds**, as the **Mel-frequency cepstral coefficients (MFCCs)**.\n",
    "\n",
    "With the features extracted above, we can evaluate their suitability for each CNN approach.\n",
    "- **1D CNN:**\n",
    "    - Spectral Centroid\n",
    "    - Spectral Bandwith\n",
    "    - Spectral Flatness\n",
    "    - Spectral Rollof\n",
    "- **2D CNN:**\n",
    "    - Chromagram\n",
    "    - Mel-Scaled Spectogram\n",
    "    - Short-time Fourier transform Tempogram"
   ]
  },
  {
   "cell_type": "markdown",
   "metadata": {},
   "source": []
  }
 ],
 "metadata": {
  "kernelspec": {
   "display_name": "Python 3 (ipykernel)",
   "language": "python",
   "name": "python3"
  },
  "language_info": {
   "codemirror_mode": {
    "name": "ipython",
    "version": 3
   },
   "file_extension": ".py",
   "mimetype": "text/x-python",
   "name": "python",
   "nbconvert_exporter": "python",
   "pygments_lexer": "ipython3",
   "version": "3.12.4"
  }
 },
 "nbformat": 4,
 "nbformat_minor": 4
}
